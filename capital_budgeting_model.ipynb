{
 "cells": [
  {
   "attachments": {},
   "cell_type": "markdown",
   "metadata": {},
   "source": [
    "# Machines Manufacturing Capital Budgeting Model\n",
    "\n",
    "#### The Problem\n",
    "<p>You work for a new startup that is trying to manufacture phones. You are tasked with building a model which will\n",
    "help determine how many machines to invest in and how much to spend on marketing.</p> \n",
    "\n",
    "<p>Each machine produces n output phones per year. Each phone sells for p phone and costs c phone in variable costs to produce. After n life years, the machine can no longer produce output, but may be scrapped for p scrap.</p> \n",
    "\n",
    "<p>The machine will not be replaced, so you may end up with zero total output before your model time period ends. Equity investment is limited, so in each year you can spend cmachine to either buy a machine or buy advertisements. In the first year you must buy a machine.</p>\n",
    "\n",
    "<p>Any other machine purchases must be made one after another (advertising can only begin after machine buying is done). \n",
    "Demand for your phones starts at d1. Each time you advertise, demand increases by gd%. The prevailing market interest rate is r.</p>\n",
    "\n",
    "#### Notes\n",
    "- You may limit your model to 20 years and a maximum of 5 machines if it is helpful.\n",
    "- For simplicity, assume that cmachine is paid in every year, even after all machines have shut down.\n",
    "- Ensure that you can change the inputs and the outputs change as expected.\n",
    "- For simplicity, assume that fractional phones can be sold, you do not need to round the quantity transacted.\n",
    "\n",
    "[**Setup**](#Setup): Runs any imports and other setup<br>\n",
    "[**Inputs**](#Inputs): Defines the inputs for the model"
   ]
  },
  {
   "attachments": {},
   "cell_type": "markdown",
   "metadata": {},
   "source": [
    "#### Bonus Problem\n",
    "<p>It is unrealistic to assume that price and demand are unrelated. To extend the model, we can introduce a relationship between price and demand,\n",
    " given by the following equation:</p>\n",
    "\n",
    "$d_{1}$ = $d_{c}$ − $E_{phone}$ <br>\n",
    "$E_{phone}$: Price elasticity of demand <br>\n",
    "$d_{c}$: Demand constant\n",
    "\n",
    "<p>For elasticities and constants [(E = 500, d c = 900000), (E = 200, d c = 500000), (E = 100, d c = 300000)] (3 total cases), \n",
    " and taking the other model inputs in the Check your Work section, determine the optimal price for each elasticity, that is the price which maximizes the NPV.</p>\n",
    "\n",
    "#### Notes\n",
    "- $d_{1}$ is no longer an input, but an output.\n",
    "- This bonus requires optimization. (In Python, the scipy package provides optimization tools.)"
   ]
  },
  {
   "attachments": {},
   "cell_type": "markdown",
   "metadata": {},
   "source": [
    "MODEL MADE BY [Thiago Guarino](https://github.com/thiagoguarino)"
   ]
  },
  {
   "attachments": {},
   "cell_type": "markdown",
   "metadata": {},
   "source": [
    "### SETUP\n",
    "\n",
    "Setup for the later calculations are here. The necessary packages are imported."
   ]
  },
  {
   "cell_type": "code",
   "execution_count": 16,
   "metadata": {},
   "outputs": [],
   "source": [
    "from dataclasses import dataclass\n",
    "import pandas as pd\n",
    "%matplotlib inline\n",
    "import matplotlib.pyplot as plt\n",
    "import matplotlib\n",
    "import numpy as np\n",
    "import numpy_financial as npf"
   ]
  },
  {
   "attachments": {},
   "cell_type": "markdown",
   "metadata": {},
   "source": [
    "### INPUTS\n",
    "\n",
    "All of the inputs for the model are defined here. A class is constructed to manage the data, and an instance of the class containing the default inputs is created."
   ]
  },
  {
   "cell_type": "code",
   "execution_count": 17,
   "metadata": {},
   "outputs": [
    {
     "data": {
      "text/plain": [
       "ModelInputs(n_phones=100000, price_scrap=50000, price_phone=500, cost_machine_adv=1000000, cogs_phone=250, n_life=10, n_machines=5, d_1=100000, g_d=0.2, max_year=20, interest=0.05)"
      ]
     },
     "execution_count": 17,
     "metadata": {},
     "output_type": "execute_result"
    }
   ],
   "source": [
    "@dataclass\n",
    "class ModelInputs:\n",
    "    n_phones: float = 100000\n",
    "    price_scrap: float = 50000\n",
    "    price_phone: float = 500\n",
    "    cost_machine_adv: float = 1000000\n",
    "    cogs_phone: float = 250\n",
    "    n_life: int = 10\n",
    "    n_machines: int = 5\n",
    "    d_1: float = 100000\n",
    "    g_d: float = 0.2\n",
    "    max_year: float = 20\n",
    "    interest: float = 0.05\n",
    "        \n",
    "model_data = ModelInputs()\n",
    "model_data\n"
   ]
  },
  {
   "attachments": {},
   "cell_type": "markdown",
   "metadata": {},
   "source": [
    "### MODEL"
   ]
  },
  {
   "cell_type": "code",
   "execution_count": 18,
   "metadata": {
    "tags": []
   },
   "outputs": [],
   "source": [
    "class Phone_Manufacturing:\n",
    "\n",
    "    def __init__(self, input: ModelInputs):\n",
    "        self.input = input\n",
    "    \n",
    "    def get_product_demand(self):\n",
    "        demands = []\n",
    "        for d in range(1,(self.input.max_year + 1)):   \n",
    "            if d <= (self.input.n_machines):\n",
    "                demand = (self.input.d_1)\n",
    "                demands.append(demand)\n",
    "            else:\n",
    "                demand = (self.input.d_1) * (1 + self.input.g_d) ** (d - (self.input.n_machines))\n",
    "                demands.append(demand)\n",
    "        return demands\n",
    "    \n",
    "    def get_produced_products(self):\n",
    "        produced_quant = []\n",
    "        for a in range(1,(self.input.max_year + 1)):\n",
    "            if a * self.input.n_phones <= (self.input.n_machines * self.input.n_phones):\n",
    "                prod = self.input.n_phones * a\n",
    "                produced_quant.append(prod)\n",
    "\n",
    "            elif a <= self.input.n_life:\n",
    "                prod = self.input.n_machines * self.input.n_phones\n",
    "                produced_quant.append(prod)\n",
    "\n",
    "            elif a <= (self.input.n_machines + self.input.n_life):\n",
    "                prod = (self.input.n_machines * self.input.n_phones) - (self.input.n_phones) * (a - self.input.n_life)\n",
    "                produced_quant.append(prod)\n",
    "\n",
    "            elif a > (self.input.n_life + self.input.n_machines):\n",
    "                prod = 0\n",
    "                produced_quant.append(prod)\n",
    "        return produced_quant\n",
    "\n",
    "    def get_sales_revenue(self, demands, produced_quant):\n",
    "        revenues = []\n",
    "        for r in range(1,(self.input.max_year + 1)):\n",
    "            if demands[r-1] <= produced_quant[r-1]:\n",
    "                revenue = round(self.input.price_phone * demands[r-1])\n",
    "                revenues.append(revenue)\n",
    "            else:\n",
    "                revenue = round(self.input.price_phone * produced_quant[r-1])\n",
    "                revenues.append(revenue)\n",
    "        return revenues\n",
    "\n",
    "    def get_cost_sales(self, demands, produced_quant):\n",
    "        cost_sales = []\n",
    "        for s in range(1,(self.input.max_year + 1)):\n",
    "            if demands[s-1] <= produced_quant[s-1]:\n",
    "                cost = round(self.input.cogs_phone * demands[s-1])\n",
    "                cost_sales.append(cost)\n",
    "            else:\n",
    "                cost = round(self.input.cogs_phone * produced_quant[s-1])\n",
    "                cost_sales.append(cost)\n",
    "        return cost_sales\n",
    "\n",
    "    def get_profits(self, revenues, cost_sales):\n",
    "        profits = []\n",
    "        for p in range(1,(self.input.max_year + 1)):\n",
    "            profit = revenues[p-1] - cost_sales[p-1]\n",
    "            profits.append(profit)\n",
    "        return profits\n",
    "    \n",
    "    def get_cash_flows_from_profits(self, profits, initial_investment=0):\n",
    "        '''\n",
    "        returns a list containing the cash flows\n",
    "        '''\n",
    "\n",
    "        cash_flows = [initial_investment]\n",
    "\n",
    "        for c in range(1,(self.input.max_year+1)):\n",
    "            if (c > self.input.n_life) and (c <= (self.input.n_life + self.input.n_machines)):\n",
    "                c_flow = profits[c-1] - (self.input.cost_machine_adv) + (self.input.price_scrap)\n",
    "                cash_flows.append(c_flow)\n",
    "            else:\n",
    "                c_flow = (profits[c-1] - (self.input.cost_machine_adv))\n",
    "                cash_flows.append(c_flow)\n",
    "        return cash_flows\n",
    "\n",
    "    def get_cash_flows(self):\n",
    "        demands = self.get_product_demand()\n",
    "        product_products = self.get_produced_products()\n",
    "        revenues = self.get_sales_revenue(demands, product_products)\n",
    "        cost_sales = self.get_cost_sales(demands, product_products)\n",
    "        profits = self.get_profits(revenues, cost_sales)\n",
    "        return self.get_cash_flows_from_profits(profits, initial_investment=0)\n"
   ]
  },
  {
   "cell_type": "code",
   "execution_count": 19,
   "metadata": {},
   "outputs": [
    {
     "name": "stdout",
     "output_type": "stream",
     "text": [
      "Cash Flows: \n",
      "Year 1: 24,000,000\n",
      "Year 2: 24,000,000\n",
      "Year 3: 24,000,000\n",
      "Year 4: 24,000,000\n",
      "Year 5: 24,000,000\n",
      "Year 6: 29,000,000\n",
      "Year 7: 35,000,000\n",
      "Year 8: 42,200,000\n",
      "Year 9: 50,840,000\n",
      "Year 10: 61,208,000\n",
      "Year 11: 73,699,600\n",
      "Year 12: 74,050,000\n",
      "Year 13: 49,050,000\n",
      "Year 14: 24,050,000\n",
      "Year 15: -950,000\n",
      "Year 16: -1,000,000\n",
      "Year 17: -1,000,000\n",
      "Year 18: -1,000,000\n",
      "Year 19: -1,000,000\n",
      "Year 20: -1,000,000\n",
      "NPV: 369,276,542.47\n"
     ]
    }
   ],
   "source": [
    "cash_flow_model = Phone_Manufacturing(model_data)\n",
    "cash_flows = cash_flow_model.get_cash_flows()\n",
    "\n",
    "print('Cash Flows: ')\n",
    "for n, cf in enumerate(cash_flows[1:]):\n",
    "    print(f'Year {n + 1}: {cf:,}')\n",
    "\n",
    "#net present value function\n",
    "npv_c = npf.npv(model_data.interest, cash_flows)\n",
    "print(f'NPV: {npv_c:,.2f}')"
   ]
  },
  {
   "attachments": {},
   "cell_type": "markdown",
   "metadata": {},
   "source": [
    "## OUTPUT DATAFRAME\n",
    "  - See how the NPV changes when the number of machines and initial demand change\n",
    "  - Output a styled DataFrame "
   ]
  },
  {
   "cell_type": "code",
   "execution_count": 20,
   "metadata": {},
   "outputs": [],
   "source": [
    "def outputs_to_df(model):\n",
    "    cash_flow_model = Phone_Manufacturing(model)\n",
    "    cash_flows = cash_flow_model.get_cash_flows()\n",
    "    npv_list = list()\n",
    "    cf_list = list()\n",
    "\n",
    "    for cash_flow in cash_flows:\n",
    "        cf_list.append(cash_flow)\n",
    "        if len(cf_list) > 1:\n",
    "            npv_c = npf.npv(model.interest, cf_list)\n",
    "            npv_list.append(npv_c)\n",
    "        \n",
    "\n",
    "    df = pd.DataFrame({\n",
    "        'year': [year for year in range(1, model.max_year+1)],\n",
    "        'cash flow': cash_flows[1:],\n",
    "        'cumulative NPV': npv_list\n",
    "    })\n",
    "\n",
    "    return df\n"
   ]
  },
  {
   "attachments": {},
   "cell_type": "markdown",
   "metadata": {},
   "source": [
    "## Display the Data Frame"
   ]
  },
  {
   "cell_type": "code",
   "execution_count": 21,
   "metadata": {},
   "outputs": [
    {
     "data": {
      "text/html": [
       "<style type=\"text/css\">\n",
       "</style>\n",
       "<table id=\"T_95a23\">\n",
       "  <thead>\n",
       "    <tr>\n",
       "      <th class=\"blank level0\" >&nbsp;</th>\n",
       "      <th id=\"T_95a23_level0_col0\" class=\"col_heading level0 col0\" >year</th>\n",
       "      <th id=\"T_95a23_level0_col1\" class=\"col_heading level0 col1\" >cash flow</th>\n",
       "      <th id=\"T_95a23_level0_col2\" class=\"col_heading level0 col2\" >cumulative NPV</th>\n",
       "    </tr>\n",
       "  </thead>\n",
       "  <tbody>\n",
       "    <tr>\n",
       "      <th id=\"T_95a23_level0_row0\" class=\"row_heading level0 row0\" >0</th>\n",
       "      <td id=\"T_95a23_row0_col0\" class=\"data row0 col0\" >1</td>\n",
       "      <td id=\"T_95a23_row0_col1\" class=\"data row0 col1\" >$ 24,000,000.00</td>\n",
       "      <td id=\"T_95a23_row0_col2\" class=\"data row0 col2\" >$ 22,857,142.86</td>\n",
       "    </tr>\n",
       "    <tr>\n",
       "      <th id=\"T_95a23_level0_row1\" class=\"row_heading level0 row1\" >1</th>\n",
       "      <td id=\"T_95a23_row1_col0\" class=\"data row1 col0\" >2</td>\n",
       "      <td id=\"T_95a23_row1_col1\" class=\"data row1 col1\" >$ 24,000,000.00</td>\n",
       "      <td id=\"T_95a23_row1_col2\" class=\"data row1 col2\" >$ 44,625,850.34</td>\n",
       "    </tr>\n",
       "    <tr>\n",
       "      <th id=\"T_95a23_level0_row2\" class=\"row_heading level0 row2\" >2</th>\n",
       "      <td id=\"T_95a23_row2_col0\" class=\"data row2 col0\" >3</td>\n",
       "      <td id=\"T_95a23_row2_col1\" class=\"data row2 col1\" >$ 24,000,000.00</td>\n",
       "      <td id=\"T_95a23_row2_col2\" class=\"data row2 col2\" >$ 65,357,952.70</td>\n",
       "    </tr>\n",
       "    <tr>\n",
       "      <th id=\"T_95a23_level0_row3\" class=\"row_heading level0 row3\" >3</th>\n",
       "      <td id=\"T_95a23_row3_col0\" class=\"data row3 col0\" >4</td>\n",
       "      <td id=\"T_95a23_row3_col1\" class=\"data row3 col1\" >$ 24,000,000.00</td>\n",
       "      <td id=\"T_95a23_row3_col2\" class=\"data row3 col2\" >$ 85,102,812.10</td>\n",
       "    </tr>\n",
       "    <tr>\n",
       "      <th id=\"T_95a23_level0_row4\" class=\"row_heading level0 row4\" >4</th>\n",
       "      <td id=\"T_95a23_row4_col0\" class=\"data row4 col0\" >5</td>\n",
       "      <td id=\"T_95a23_row4_col1\" class=\"data row4 col1\" >$ 24,000,000.00</td>\n",
       "      <td id=\"T_95a23_row4_col2\" class=\"data row4 col2\" >$ 103,907,440.10</td>\n",
       "    </tr>\n",
       "    <tr>\n",
       "      <th id=\"T_95a23_level0_row5\" class=\"row_heading level0 row5\" >5</th>\n",
       "      <td id=\"T_95a23_row5_col0\" class=\"data row5 col0\" >6</td>\n",
       "      <td id=\"T_95a23_row5_col1\" class=\"data row5 col1\" >$ 29,000,000.00</td>\n",
       "      <td id=\"T_95a23_row5_col2\" class=\"data row5 col2\" >$ 125,547,686.60</td>\n",
       "    </tr>\n",
       "    <tr>\n",
       "      <th id=\"T_95a23_level0_row6\" class=\"row_heading level0 row6\" >6</th>\n",
       "      <td id=\"T_95a23_row6_col0\" class=\"data row6 col0\" >7</td>\n",
       "      <td id=\"T_95a23_row6_col1\" class=\"data row6 col1\" >$ 35,000,000.00</td>\n",
       "      <td id=\"T_95a23_row6_col2\" class=\"data row6 col2\" >$ 150,421,533.15</td>\n",
       "    </tr>\n",
       "    <tr>\n",
       "      <th id=\"T_95a23_level0_row7\" class=\"row_heading level0 row7\" >7</th>\n",
       "      <td id=\"T_95a23_row7_col0\" class=\"data row7 col0\" >8</td>\n",
       "      <td id=\"T_95a23_row7_col1\" class=\"data row7 col1\" >$ 42,200,000.00</td>\n",
       "      <td id=\"T_95a23_row7_col2\" class=\"data row7 col2\" >$ 178,984,154.23</td>\n",
       "    </tr>\n",
       "    <tr>\n",
       "      <th id=\"T_95a23_level0_row8\" class=\"row_heading level0 row8\" >8</th>\n",
       "      <td id=\"T_95a23_row8_col0\" class=\"data row8 col0\" >9</td>\n",
       "      <td id=\"T_95a23_row8_col1\" class=\"data row8 col1\" >$ 50,840,000.00</td>\n",
       "      <td id=\"T_95a23_row8_col2\" class=\"data row8 col2\" >$ 211,756,071.53</td>\n",
       "    </tr>\n",
       "    <tr>\n",
       "      <th id=\"T_95a23_level0_row9\" class=\"row_heading level0 row9\" >9</th>\n",
       "      <td id=\"T_95a23_row9_col0\" class=\"data row9 col0\" >10</td>\n",
       "      <td id=\"T_95a23_row9_col1\" class=\"data row9 col1\" >$ 61,208,000.00</td>\n",
       "      <td id=\"T_95a23_row9_col2\" class=\"data row9 col2\" >$ 249,332,473.95</td>\n",
       "    </tr>\n",
       "    <tr>\n",
       "      <th id=\"T_95a23_level0_row10\" class=\"row_heading level0 row10\" >10</th>\n",
       "      <td id=\"T_95a23_row10_col0\" class=\"data row10 col0\" >11</td>\n",
       "      <td id=\"T_95a23_row10_col1\" class=\"data row10 col1\" >$ 73,699,600.00</td>\n",
       "      <td id=\"T_95a23_row10_col2\" class=\"data row10 col2\" >$ 292,423,103.69</td>\n",
       "    </tr>\n",
       "    <tr>\n",
       "      <th id=\"T_95a23_level0_row11\" class=\"row_heading level0 row11\" >11</th>\n",
       "      <td id=\"T_95a23_row11_col0\" class=\"data row11 col0\" >12</td>\n",
       "      <td id=\"T_95a23_row11_col1\" class=\"data row11 col1\" >$ 74,050,000.00</td>\n",
       "      <td id=\"T_95a23_row11_col2\" class=\"data row11 col2\" >$ 333,656,914.50</td>\n",
       "    </tr>\n",
       "    <tr>\n",
       "      <th id=\"T_95a23_level0_row12\" class=\"row_heading level0 row12\" >12</th>\n",
       "      <td id=\"T_95a23_row12_col0\" class=\"data row12 col0\" >13</td>\n",
       "      <td id=\"T_95a23_row12_col1\" class=\"data row12 col1\" >$ 49,050,000.00</td>\n",
       "      <td id=\"T_95a23_row12_col2\" class=\"data row12 col2\" >$ 359,669,176.75</td>\n",
       "    </tr>\n",
       "    <tr>\n",
       "      <th id=\"T_95a23_level0_row13\" class=\"row_heading level0 row13\" >13</th>\n",
       "      <td id=\"T_95a23_row13_col0\" class=\"data row13 col0\" >14</td>\n",
       "      <td id=\"T_95a23_row13_col1\" class=\"data row13 col1\" >$ 24,050,000.00</td>\n",
       "      <td id=\"T_95a23_row13_col2\" class=\"data row13 col2\" >$ 371,816,061.02</td>\n",
       "    </tr>\n",
       "    <tr>\n",
       "      <th id=\"T_95a23_level0_row14\" class=\"row_heading level0 row14\" >14</th>\n",
       "      <td id=\"T_95a23_row14_col0\" class=\"data row14 col0\" >15</td>\n",
       "      <td id=\"T_95a23_row14_col1\" class=\"data row14 col1\" >$ -950,000.00</td>\n",
       "      <td id=\"T_95a23_row14_col2\" class=\"data row14 col2\" >$ 371,359,094.78</td>\n",
       "    </tr>\n",
       "    <tr>\n",
       "      <th id=\"T_95a23_level0_row15\" class=\"row_heading level0 row15\" >15</th>\n",
       "      <td id=\"T_95a23_row15_col0\" class=\"data row15 col0\" >16</td>\n",
       "      <td id=\"T_95a23_row15_col1\" class=\"data row15 col1\" >$ -1,000,000.00</td>\n",
       "      <td id=\"T_95a23_row15_col2\" class=\"data row15 col2\" >$ 370,900,983.26</td>\n",
       "    </tr>\n",
       "    <tr>\n",
       "      <th id=\"T_95a23_level0_row16\" class=\"row_heading level0 row16\" >16</th>\n",
       "      <td id=\"T_95a23_row16_col0\" class=\"data row16 col0\" >17</td>\n",
       "      <td id=\"T_95a23_row16_col1\" class=\"data row16 col1\" >$ -1,000,000.00</td>\n",
       "      <td id=\"T_95a23_row16_col2\" class=\"data row16 col2\" >$ 370,464,686.57</td>\n",
       "    </tr>\n",
       "    <tr>\n",
       "      <th id=\"T_95a23_level0_row17\" class=\"row_heading level0 row17\" >17</th>\n",
       "      <td id=\"T_95a23_row17_col0\" class=\"data row17 col0\" >18</td>\n",
       "      <td id=\"T_95a23_row17_col1\" class=\"data row17 col1\" >$ -1,000,000.00</td>\n",
       "      <td id=\"T_95a23_row17_col2\" class=\"data row17 col2\" >$ 370,049,165.91</td>\n",
       "    </tr>\n",
       "    <tr>\n",
       "      <th id=\"T_95a23_level0_row18\" class=\"row_heading level0 row18\" >18</th>\n",
       "      <td id=\"T_95a23_row18_col0\" class=\"data row18 col0\" >19</td>\n",
       "      <td id=\"T_95a23_row18_col1\" class=\"data row18 col1\" >$ -1,000,000.00</td>\n",
       "      <td id=\"T_95a23_row18_col2\" class=\"data row18 col2\" >$ 369,653,431.96</td>\n",
       "    </tr>\n",
       "    <tr>\n",
       "      <th id=\"T_95a23_level0_row19\" class=\"row_heading level0 row19\" >19</th>\n",
       "      <td id=\"T_95a23_row19_col0\" class=\"data row19 col0\" >20</td>\n",
       "      <td id=\"T_95a23_row19_col1\" class=\"data row19 col1\" >$ -1,000,000.00</td>\n",
       "      <td id=\"T_95a23_row19_col2\" class=\"data row19 col2\" >$ 369,276,542.47</td>\n",
       "    </tr>\n",
       "  </tbody>\n",
       "</table>\n"
      ],
      "text/plain": [
       "<pandas.io.formats.style.Styler at 0x7f37e4389110>"
      ]
     },
     "execution_count": 21,
     "metadata": {},
     "output_type": "execute_result"
    }
   ],
   "source": [
    "df = outputs_to_df(model_data)\n",
    "\n",
    "\n",
    "df_display = df.style.format({\n",
    "    'cash flow': \"$ {:,.2f}\",\n",
    "    'cumulative NPV': \"$ {:,.2f}\"\n",
    "})\n",
    "\n",
    "df_display"
   ]
  },
  {
   "attachments": {},
   "cell_type": "markdown",
   "metadata": {},
   "source": [
    "## Visualizing the Dataframe"
   ]
  },
  {
   "cell_type": "code",
   "execution_count": 22,
   "metadata": {},
   "outputs": [
    {
     "data": {
      "image/png": "[encoded data removed]",
      "text/plain": [
       "<Figure size 640x480 with 1 Axes>"
      ]
     },
     "metadata": {},
     "output_type": "display_data"
    }
   ],
   "source": [
    "df = outputs_to_df(model_data)\n",
    "\n",
    "# Call the function to get the DataFrame\n",
    "df = outputs_to_df(model_data)\n",
    "\n",
    "# Plot the line graph\n",
    "plt.plot(df['year'], df['cumulative NPV'], marker='o', linestyle='-', color='blue')\n",
    "\n",
    "# Set the x-axis and y-axis labels\n",
    "plt.xlabel('Year')\n",
    "plt.ylabel('cumulative NPV')\n",
    "\n",
    "# Set the title of the graph\n",
    "plt.title('cumulative NPV over Years')\n",
    "\n",
    "# Format the y-axis tick labels\n",
    "plt.gca().get_yaxis().set_major_formatter('${:,.2f}'.format)\n",
    "\n",
    "# Display the line graph\n",
    "plt.show()\n"
   ]
  },
  {
   "cell_type": "code",
   "execution_count": 23,
   "metadata": {},
   "outputs": [
    {
     "data": {
      "image/png": "[encoded data removed]",
      "text/plain": [
       "<Figure size 640x480 with 1 Axes>"
      ]
     },
     "metadata": {},
     "output_type": "display_data"
    }
   ],
   "source": [
    "df = outputs_to_df(model_data)\n",
    "\n",
    "# Call the function to get the DataFrame\n",
    "df = outputs_to_df(model_data)\n",
    "\n",
    "# Plot the line graph\n",
    "plt.plot(df['year'], df['cash flow'], marker='o', linestyle='-', color='blue')\n",
    "\n",
    "# Set the x-axis and y-axis labels\n",
    "plt.xlabel('Year')\n",
    "plt.ylabel('Cash Flow')\n",
    "\n",
    "# Set the title of the graph\n",
    "plt.title('Cash Flows over Years')\n",
    "\n",
    "# Format the y-axis tick labels\n",
    "plt.gca().get_yaxis().set_major_formatter('${:,.2f}'.format)\n",
    "\n",
    "# Display the line graph\n",
    "plt.show()"
   ]
  },
  {
   "attachments": {},
   "cell_type": "markdown",
   "metadata": {},
   "source": [
    "## Sensitivity Analysis"
   ]
  },
  {
   "attachments": {},
   "cell_type": "markdown",
   "metadata": {},
   "source": [
    "### 1. setting up the data"
   ]
  },
  {
   "cell_type": "code",
   "execution_count": 24,
   "metadata": {},
   "outputs": [
    {
     "data": {
      "text/plain": [
       "369276542.47415346"
      ]
     },
     "execution_count": 24,
     "metadata": {},
     "output_type": "execute_result"
    }
   ],
   "source": [
    "def cf_model(data):\n",
    "    cash_flow_model = Phone_Manufacturing(data)\n",
    "    cash_flows = cash_flow_model.get_cash_flows()\n",
    "\n",
    "    #net present value function\n",
    "    npv_c = npf.npv(model_data.interest, cash_flows)\n",
    "    return npv_c\n",
    "\n",
    "def npv_phone_factory_model(model_data, **kwargs):\n",
    "    altered_model_data = ModelInputs(**kwargs)\n",
    "    npv_c = cf_model(model_data)\n",
    "    \n",
    "    if kwargs:\n",
    "        npv_c = cf_model(altered_model_data)\n",
    "        return npv_c\n",
    "    \n",
    "    return npv_c\n",
    "\n",
    "npv_phone_factory_model(model_data=model_data)"
   ]
  },
  {
   "cell_type": "code",
   "execution_count": 25,
   "metadata": {},
   "outputs": [],
   "source": [
    "sa_input_variations = {\n",
    "  'n_machines': [3, 4, 5, 6, 7],\n",
    "  'd_1': [\n",
    "    80000,\n",
    "    90000,\n",
    "    100000,\n",
    "    120000,\n",
    "    125000,\n",
    "  ]}\n",
    "\n",
    "labels = {\n",
    "  'n_machines': 'N of Machines',\n",
    "  'd_1': 'Initial Demand'\n",
    "}\n",
    "\n"
   ]
  },
  {
   "attachments": {},
   "cell_type": "markdown",
   "metadata": {},
   "source": [
    "### 2. results for Sensitivity Analysis of the Model"
   ]
  },
  {
   "cell_type": "code",
   "execution_count": 26,
   "metadata": {},
   "outputs": [
    {
     "data": {
      "text/html": [
       "<style type=\"text/css\">\n",
       "#T_072b0_row0_col0, #T_072b0_row0_col1, #T_072b0_row0_col2, #T_072b0_row0_col3, #T_072b0_row0_col4 {\n",
       "  background-color: #a50026;\n",
       "  color: #f1f1f1;\n",
       "}\n",
       "#T_072b0_row1_col0, #T_072b0_row1_col1, #T_072b0_row1_col2 {\n",
       "  background-color: #fa9857;\n",
       "  color: #000000;\n",
       "}\n",
       "#T_072b0_row1_col3 {\n",
       "  background-color: #feec9f;\n",
       "  color: #000000;\n",
       "}\n",
       "#T_072b0_row1_col4 {\n",
       "  background-color: #fffab6;\n",
       "  color: #000000;\n",
       "}\n",
       "#T_072b0_row2_col0, #T_072b0_row2_col1, #T_072b0_row2_col2 {\n",
       "  background-color: #f5fbb2;\n",
       "  color: #000000;\n",
       "}\n",
       "#T_072b0_row2_col3 {\n",
       "  background-color: #c7e77f;\n",
       "  color: #000000;\n",
       "}\n",
       "#T_072b0_row2_col4 {\n",
       "  background-color: #b9e176;\n",
       "  color: #000000;\n",
       "}\n",
       "#T_072b0_row3_col0, #T_072b0_row3_col1, #T_072b0_row3_col2 {\n",
       "  background-color: #7ac665;\n",
       "  color: #000000;\n",
       "}\n",
       "#T_072b0_row3_col3 {\n",
       "  background-color: #54b45f;\n",
       "  color: #f1f1f1;\n",
       "}\n",
       "#T_072b0_row3_col4 {\n",
       "  background-color: #48ae5c;\n",
       "  color: #f1f1f1;\n",
       "}\n",
       "#T_072b0_row4_col0, #T_072b0_row4_col1, #T_072b0_row4_col2, #T_072b0_row4_col3, #T_072b0_row4_col4 {\n",
       "  background-color: #006837;\n",
       "  color: #f1f1f1;\n",
       "}\n",
       "</style>\n",
       "<table id=\"T_072b0\">\n",
       "  <caption>Sensitivity Analysis Results) Project NPV - N of Machines vs. Initial Demand</caption>\n",
       "  <thead>\n",
       "    <tr>\n",
       "      <th class=\"index_name level0\" >Initial Demand</th>\n",
       "      <th id=\"T_072b0_level0_col0\" class=\"col_heading level0 col0\" >80000</th>\n",
       "      <th id=\"T_072b0_level0_col1\" class=\"col_heading level0 col1\" >90000</th>\n",
       "      <th id=\"T_072b0_level0_col2\" class=\"col_heading level0 col2\" >100000</th>\n",
       "      <th id=\"T_072b0_level0_col3\" class=\"col_heading level0 col3\" >120000</th>\n",
       "      <th id=\"T_072b0_level0_col4\" class=\"col_heading level0 col4\" >125000</th>\n",
       "    </tr>\n",
       "    <tr>\n",
       "      <th class=\"index_name level0\" >N of Machines</th>\n",
       "      <th class=\"blank col0\" >&nbsp;</th>\n",
       "      <th class=\"blank col1\" >&nbsp;</th>\n",
       "      <th class=\"blank col2\" >&nbsp;</th>\n",
       "      <th class=\"blank col3\" >&nbsp;</th>\n",
       "      <th class=\"blank col4\" >&nbsp;</th>\n",
       "    </tr>\n",
       "  </thead>\n",
       "  <tbody>\n",
       "    <tr>\n",
       "      <th id=\"T_072b0_level0_row0\" class=\"row_heading level0 row0\" >3</th>\n",
       "      <td id=\"T_072b0_row0_col0\" class=\"data row0 col0\" >$ 298,989,175.56</td>\n",
       "      <td id=\"T_072b0_row0_col1\" class=\"data row0 col1\" >$ 329,064,632.22</td>\n",
       "      <td id=\"T_072b0_row0_col2\" class=\"data row0 col2\" >$ 357,091,838.53</td>\n",
       "      <td id=\"T_072b0_row0_col3\" class=\"data row0 col3\" >$ 398,986,257.79</td>\n",
       "      <td id=\"T_072b0_row0_col4\" class=\"data row0 col4\" >$ 407,535,318.23</td>\n",
       "    </tr>\n",
       "    <tr>\n",
       "      <th id=\"T_072b0_level0_row1\" class=\"row_heading level0 row1\" >4</th>\n",
       "      <td id=\"T_072b0_row1_col0\" class=\"data row1 col0\" >$ 303,235,010.20</td>\n",
       "      <td id=\"T_072b0_row1_col1\" class=\"data row1 col1\" >$ 334,259,254.64</td>\n",
       "      <td id=\"T_072b0_row1_col2\" class=\"data row1 col2\" >$ 363,332,784.45</td>\n",
       "      <td id=\"T_072b0_row1_col3\" class=\"data row1 col3\" >$ 416,717,939.32</td>\n",
       "      <td id=\"T_072b0_row1_col4\" class=\"data row1 col4\" >$ 430,064,228.03</td>\n",
       "    </tr>\n",
       "    <tr>\n",
       "      <th id=\"T_072b0_level0_row2\" class=\"row_heading level0 row2\" >5</th>\n",
       "      <td id=\"T_072b0_row2_col0\" class=\"data row2 col0\" >$ 307,278,662.23</td>\n",
       "      <td id=\"T_072b0_row2_col1\" class=\"data row2 col1\" >$ 339,206,514.08</td>\n",
       "      <td id=\"T_072b0_row2_col2\" class=\"data row2 col2\" >$ 369,276,542.47</td>\n",
       "      <td id=\"T_072b0_row2_col3\" class=\"data row2 col3\" >$ 424,654,694.50</td>\n",
       "      <td id=\"T_072b0_row2_col4\" class=\"data row2 col4\" >$ 438,499,232.51</td>\n",
       "    </tr>\n",
       "    <tr>\n",
       "      <th id=\"T_072b0_level0_row3\" class=\"row_heading level0 row3\" >6</th>\n",
       "      <td id=\"T_072b0_row3_col0\" class=\"data row3 col0\" >$ 311,129,759.41</td>\n",
       "      <td id=\"T_072b0_row3_col1\" class=\"data row3 col1\" >$ 343,918,189.74</td>\n",
       "      <td id=\"T_072b0_row3_col2\" class=\"data row3 col2\" >$ 374,937,264.40</td>\n",
       "      <td id=\"T_072b0_row3_col3\" class=\"data row3 col3\" >$ 432,213,508.96</td>\n",
       "      <td id=\"T_072b0_row3_col4\" class=\"data row3 col4\" >$ 446,532,570.10</td>\n",
       "    </tr>\n",
       "    <tr>\n",
       "      <th id=\"T_072b0_level0_row4\" class=\"row_heading level0 row4\" >7</th>\n",
       "      <td id=\"T_072b0_row4_col0\" class=\"data row4 col0\" >$ 314,797,471.00</td>\n",
       "      <td id=\"T_072b0_row4_col1\" class=\"data row4 col1\" >$ 348,405,499.89</td>\n",
       "      <td id=\"T_072b0_row4_col2\" class=\"data row4 col2\" >$ 380,328,428.14</td>\n",
       "      <td id=\"T_072b0_row4_col3\" class=\"data row4 col3\" >$ 439,412,379.87</td>\n",
       "      <td id=\"T_072b0_row4_col4\" class=\"data row4 col4\" >$ 454,183,367.81</td>\n",
       "    </tr>\n",
       "  </tbody>\n",
       "</table>\n"
      ],
      "text/plain": [
       "<pandas.io.formats.style.Styler at 0x7f37e1f96ad0>"
      ]
     },
     "execution_count": 26,
     "metadata": {},
     "output_type": "execute_result"
    }
   ],
   "source": [
    "results = []\n",
    "\n",
    "for n_machines in sa_input_variations['n_machines']:\n",
    "    for d_1 in sa_input_variations['d_1']:\n",
    "        # Create the model data object with the current input values\n",
    "        model_data = ModelInputs(n_machines=n_machines, d_1=d_1)\n",
    "\n",
    "        # Calculate the output for the current input values\n",
    "        output = npv_phone_factory_model(model_data)\n",
    "\n",
    "        # Store the results\n",
    "        results.append((n_machines, d_1, output))\n",
    "\n",
    "df = pd.DataFrame(results, columns=['N of Machines', 'Initial Demand', 'Project NPV'])\n",
    "\n",
    "df_pivot = df.pivot(index='Initial Demand', columns='N of Machines', values='Project NPV')\n",
    "\n",
    "df_vertical = df_pivot.transpose()\n",
    "\n",
    "df_style = df_vertical.style.format(\"$ {:,.2f}\").background_gradient(cmap='RdYlGn')\n",
    "\n",
    "df_style.set_caption(\"Sensitivity Analysis Results) Project NPV - N of Machines vs. Initial Demand\")\n",
    "\n",
    "df_style\n",
    "\n"
   ]
  }
 ],
 "metadata": {
  "kernelspec": {
   "display_name": "base",
   "language": "python",
   "name": "python3"
  },
  "language_info": {
   "codemirror_mode": {
    "name": "ipython",
    "version": 3
   },
   "file_extension": ".py",
   "mimetype": "text/x-python",
   "name": "python",
   "nbconvert_exporter": "python",
   "pygments_lexer": "ipython3",
   "version": "3.11.4"
  },
  "vscode": {
   "interpreter": {
    "hash": "c1e09f12e55fc459ce48bf92273f2d1a8105b26f07b4fca1f27376d3cc22e44e"
   }
  }
 },
 "nbformat": 4,
 "nbformat_minor": 4
}
