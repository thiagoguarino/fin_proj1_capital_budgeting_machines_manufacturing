{
 "cells": [
  {
   "cell_type": "markdown",
   "metadata": {},
   "source": [
    "# Machines Manufacturing Capital Budgeting Model\n",
    "\n",
    "#### The Problem\n",
    "<p>You work for a new startup that is trying to manufacture phones. You are tasked with building a model which will\n",
    "help determine how many machines to invest in and how much to spend on marketing.</p> \n",
    "\n",
    "<p>Each machine produces n output phones per year. Each phone sells for p phone and costs c phone in variable costs to produce. After n life years, the machine can no longer produce output, but may be scrapped for p scrap.</p> \n",
    "\n",
    "<p>The machine will not be replaced, so you may end up with zero total output before your model time period ends. Equity investment is limited, so in each year you can spend cmachine to either buy a machine or buy advertisements. In the first year you must buy a machine.</p>\n",
    "\n",
    "<p>Any other machine purchases must be made one after another (advertising can only begin after machine buying is done). \n",
    "Demand for your phones starts at d1. Each time you advertise, demand increases by gd%. The prevailing market interest rate is r.</p>\n",
    "\n",
    "#### Notes\n",
    "- You may limit your model to 20 years and a maximum of 5 machines if it is helpful.\n",
    "- For simplicity, assume that cmachine is paid in every year, even after all machines have shut down.\n",
    "- Ensure that you can change the inputs and the outputs change as expected.\n",
    "- For simplicity, assume that fractional phones can be sold, you do not need to round the quantity transacted.\n",
    "\n",
    "[**Setup**](#Setup): Runs any imports and other setup<br>\n",
    "[**Inputs**](#Inputs): Defines the inputs for the model"
   ]
  },
  {
   "attachments": {},
   "cell_type": "markdown",
   "metadata": {},
   "source": [
    "#### Bonus Problem\n",
    "<p>It is unrealistic to assume that price and demand are unrelated. To extend the model, we can introduce a relationship between price and demand,\n",
    " given by the following equation:</p>\n",
    "\n",
    "$d_{1}$ = $d_{c}$ − $E_{phone}$ <br>\n",
    "$E_{phone}$: Price elasticity of demand <br>\n",
    "$d_{c}$: Demand constant\n",
    "\n",
    "<p>For elasticities and constants [(E = 500, d c = 900000), (E = 200, d c = 500000), (E = 100, d c = 300000)] (3 total cases), \n",
    " and taking the other model inputs in the Check your Work section, determine the optimal price for each elasticity, that is the price which maximizes the NPV.</p>\n",
    "\n",
    "#### Notes\n",
    "- $d_{1}$ is no longer an input, but an output.\n",
    "- This bonus requires optimization. (In Python, the scipy package provides optimization tools.)"
   ]
  },
  {
   "attachments": {},
   "cell_type": "markdown",
   "metadata": {},
   "source": [
    "MODEL MADE BY [Thiago Guarino](https://github.com/thiagoguarino)"
   ]
  },
  {
   "cell_type": "markdown",
   "metadata": {},
   "source": [
    "### SETUP\n",
    "\n",
    "Setup for the later calculations are here. The necessary packages are imported."
   ]
  },
  {
   "cell_type": "code",
   "execution_count": 1,
   "metadata": {},
   "outputs": [],
   "source": [
    "from dataclasses import dataclass\n",
    "import numpy_financial as npf"
   ]
  },
  {
   "cell_type": "markdown",
   "metadata": {},
   "source": [
    "### INPUTS\n",
    "\n",
    "All of the inputs for the model are defined here. A class is constructed to manage the data, and an instance of the class containing the default inputs is created."
   ]
  },
  {
   "cell_type": "code",
   "execution_count": 2,
   "metadata": {},
   "outputs": [
    {
     "data": {
      "text/plain": [
       "ModelInputs(n_phones=100000, price_scrap=50000, price_phone=500, cost_machine_adv=1000000, cogs_phone=250, n_life=10, n_machines=5, d_1=100000, g_d=0.2, max_year=20, interest=0.05, elasticity=100, demand_constant=300000)"
      ]
     },
     "execution_count": 2,
     "metadata": {},
     "output_type": "execute_result"
    }
   ],
   "source": [
    "@dataclass\n",
    "class ModelInputs:\n",
    "    n_phones: float = 100000\n",
    "    price_scrap: float = 50000\n",
    "    price_phone: float = 500\n",
    "    cost_machine_adv: float = 1000000\n",
    "    cogs_phone: float = 250\n",
    "    n_life: int = 10\n",
    "    n_machines: int = 5\n",
    "    d_1: float = 100000\n",
    "    g_d: float = 0.2\n",
    "    max_year: float = 20\n",
    "    interest: float = 0.05\n",
    "        \n",
    "    # Inputs for bonus problem\n",
    "    elasticity: float = 100\n",
    "    demand_constant: float = 300000\n",
    "        \n",
    "model_data = ModelInputs()\n",
    "model_data\n"
   ]
  },
  {
   "cell_type": "markdown",
   "metadata": {},
   "source": [
    "### MODEL"
   ]
  },
  {
   "cell_type": "code",
   "execution_count": 3,
   "metadata": {
    "tags": []
   },
   "outputs": [],
   "source": [
    "class Phone_Manufacturing:\n",
    "\n",
    "    def __init__(self, input: ModelInputs):\n",
    "        self.input = input\n",
    "    \n",
    "    def get_product_demand(self):\n",
    "        demands = []\n",
    "        for d in range(1,(self.input.max_year + 1)):   \n",
    "            if d <= (self.input.n_machines):\n",
    "                demand = (self.input.d_1)\n",
    "                demands.append(demand)\n",
    "            else:\n",
    "                demand = (self.input.d_1) * (1 + self.input.g_d) ** (d - (self.input.n_machines))\n",
    "                demands.append(demand)\n",
    "        return demands\n",
    "    \n",
    "    def get_produced_products(self):\n",
    "        produced_quant = []\n",
    "        for a in range(1,(self.input.max_year + 1)):\n",
    "            if a * self.input.n_phones <= (self.input.n_machines * self.input.n_phones):\n",
    "                prod = self.input.n_phones * a\n",
    "                produced_quant.append(prod)\n",
    "\n",
    "            elif a <= self.input.n_life:\n",
    "                prod = self.input.n_machines * self.input.n_phones\n",
    "                produced_quant.append(prod)\n",
    "\n",
    "            elif a <= (self.input.n_machines + self.input.n_life):\n",
    "                prod = (self.input.n_machines * self.input.n_phones) - (self.input.n_phones) * (a - self.input.n_life)\n",
    "                produced_quant.append(prod)\n",
    "\n",
    "            elif a > (self.input.n_life + self.input.n_machines):\n",
    "                prod = 0\n",
    "                produced_quant.append(prod)\n",
    "        return produced_quant\n",
    "\n",
    "    def get_sales_revenue(self, demands, produced_quant):\n",
    "        revenues = []\n",
    "        for r in range(1,(self.input.max_year + 1)):\n",
    "            if demands[r-1] <= produced_quant[r-1]:\n",
    "                revenue = round(self.input.price_phone * demands[r-1])\n",
    "                revenues.append(revenue)\n",
    "            else:\n",
    "                revenue = round(self.input.price_phone * produced_quant[r-1])\n",
    "                revenues.append(revenue)\n",
    "        return revenues\n",
    "\n",
    "    def get_cost_sales(self, demands, produced_quant):\n",
    "        cost_sales = []\n",
    "        for s in range(1,(self.input.max_year + 1)):\n",
    "            if demands[s-1] <= produced_quant[s-1]:\n",
    "                cost = round(self.input.cogs_phone * demands[s-1])\n",
    "                cost_sales.append(cost)\n",
    "            else:\n",
    "                cost = round(self.input.cogs_phone * produced_quant[s-1])\n",
    "                cost_sales.append(cost)\n",
    "        return cost_sales\n",
    "\n",
    "    def get_profits(self, revenues, cost_sales):\n",
    "        profits = []\n",
    "        for p in range(1,(self.input.max_year + 1)):\n",
    "            profit = revenues[p-1] - cost_sales[p-1]\n",
    "            profits.append(profit)\n",
    "        return profits\n",
    "    \n",
    "    def get_cash_flows_from_profits(self, profits, initial_investment=0):\n",
    "        '''\n",
    "        returns a list containing the cash flows\n",
    "        '''\n",
    "\n",
    "        cash_flows = [initial_investment]\n",
    "\n",
    "        for c in range(1,(self.input.max_year+1)):\n",
    "            if (c > self.input.n_life) and (c <= (self.input.n_life + self.input.n_machines)):\n",
    "                c_flow = profits[c-1] - (self.input.cost_machine_adv) + (self.input.price_scrap)\n",
    "                cash_flows.append(c_flow)\n",
    "            else:\n",
    "                c_flow = (profits[c-1] - (self.input.cost_machine_adv))\n",
    "                cash_flows.append(c_flow)\n",
    "        return cash_flows\n",
    "\n",
    "    def get_cash_flows(self):\n",
    "        demands = self.get_product_demand()\n",
    "        product_products = self.get_produced_products()\n",
    "        revenues = self.get_sales_revenue(demands, product_products)\n",
    "        cost_sales = self.get_cost_sales(demands, product_products)\n",
    "        profits = self.get_profits(revenues, cost_sales)\n",
    "        return self.get_cash_flows_from_profits(profits, initial_investment=0)\n"
   ]
  },
  {
   "cell_type": "code",
   "execution_count": 4,
   "metadata": {},
   "outputs": [
    {
     "name": "stdout",
     "output_type": "stream",
     "text": [
      "Cash Flows: \n",
      "Year 1: 24000000\n",
      "Year 2: 24000000\n",
      "Year 3: 24000000\n",
      "Year 4: 24000000\n",
      "Year 5: 24000000\n",
      "Year 6: 29000000\n",
      "Year 7: 35000000\n",
      "Year 8: 42200000\n",
      "Year 9: 50840000\n",
      "Year 10: 61208000\n",
      "Year 11: 73699600\n",
      "Year 12: 74050000\n",
      "Year 13: 49050000\n",
      "Year 14: 24050000\n",
      "Year 15: -950000\n",
      "Year 16: -1000000\n",
      "Year 17: -1000000\n",
      "Year 18: -1000000\n",
      "Year 19: -1000000\n",
      "Year 20: -1000000\n",
      "NPV: 369276542.47\n"
     ]
    }
   ],
   "source": [
    "cash_flow_model = Phone_Manufacturing(model_data)\n",
    "cash_flows = cash_flow_model.get_cash_flows()\n",
    "\n",
    "print('Cash Flows: ')\n",
    "for n, cf in enumerate(cash_flows[1:]):\n",
    "    print(f'Year {n + 1}: {cf}')\n",
    "\n",
    "#net present value function\n",
    "npv_c = npf.npv(model_data.interest, cash_flows)\n",
    "print(f'NPV: {npv_c:.2f}')"
   ]
  }
 ],
 "metadata": {
  "kernelspec": {
   "display_name": "base",
   "language": "python",
   "name": "python3"
  },
  "language_info": {
   "codemirror_mode": {
    "name": "ipython",
    "version": 3
   },
   "file_extension": ".py",
   "mimetype": "text/x-python",
   "name": "python",
   "nbconvert_exporter": "python",
   "pygments_lexer": "ipython3",
   "version": "3.11.2"
  },
  "vscode": {
   "interpreter": {
    "hash": "c1e09f12e55fc459ce48bf92273f2d1a8105b26f07b4fca1f27376d3cc22e44e"
   }
  }
 },
 "nbformat": 4,
 "nbformat_minor": 4
}
